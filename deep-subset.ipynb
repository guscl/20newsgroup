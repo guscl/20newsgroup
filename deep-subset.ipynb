{
 "cells": [
  {
   "cell_type": "markdown",
   "metadata": {
    "_uuid": "97b92845b85f289ba795c8c8f7117526abe073d0"
   },
   "source": [
    "## IMPORTS "
   ]
  },
  {
   "cell_type": "code",
   "execution_count": 1,
   "metadata": {
    "_uuid": "abb7e3c30b8a412a50c6b451c49939e3cf4bc11b",
    "scrolled": true
   },
   "outputs": [
    {
     "name": "stderr",
     "output_type": "stream",
     "text": [
      "/home/guscl/igti/projeto final/20newsgroup/env/lib/python3.8/site-packages/tqdm/std.py:668: FutureWarning: The Panel class is removed from pandas. Accessing it from the top-level namespace will also be removed in the next version\n",
      "  from pandas import Panel\n"
     ]
    }
   ],
   "source": [
    "import random\n",
    "import copy\n",
    "import time\n",
    "import pandas as pd\n",
    "import numpy as np\n",
    "import gc\n",
    "import re\n",
    "import torch\n",
    "\n",
    "#import spacy\n",
    "from tqdm import tqdm_notebook, tnrange\n",
    "from tqdm.auto import tqdm\n",
    "\n",
    "tqdm.pandas(desc='Progress')\n",
    "from collections import Counter\n",
    "\n",
    "from nltk import word_tokenize\n",
    "\n",
    "import torch.nn as nn\n",
    "import torch.optim as optim\n",
    "import torch.nn.functional as F\n",
    "from torch.utils.data import Dataset, DataLoader\n",
    "from torch.nn.utils.rnn import pack_padded_sequence, pad_packed_sequence\n",
    "from torch.autograd import Variable\n",
    "from sklearn.metrics import f1_score\n",
    "import os \n",
    "\n",
    "from keras.preprocessing.text import Tokenizer\n",
    "from keras.preprocessing.sequence import pad_sequences\n",
    "\n",
    "# cross validation and metrics\n",
    "from sklearn.model_selection import StratifiedKFold\n",
    "from sklearn.metrics import f1_score\n",
    "from torch.optim.optimizer import Optimizer\n",
    "\n",
    "from sklearn.preprocessing import StandardScaler\n",
    "from multiprocessing import  Pool\n",
    "from functools import partial\n",
    "import numpy as np\n",
    "from sklearn.decomposition import PCA\n",
    "import torch as t\n",
    "import torch.nn as nn\n",
    "import torch.nn.functional as F\n",
    "\n",
    "import matplotlib.pyplot as plt\n",
    "\n",
    "from sklearn.datasets import fetch_20newsgroups\n"
   ]
  },
  {
   "cell_type": "markdown",
   "metadata": {
    "_uuid": "9a4ff5590a6f152dc1bec5aeca79aef10218f7de"
   },
   "source": [
    "### Basic Parameters"
   ]
  },
  {
   "cell_type": "code",
   "execution_count": 2,
   "metadata": {
    "_uuid": "deee49df5ca1c4413f71677939e26aa1ff784e44",
    "scrolled": true
   },
   "outputs": [],
   "source": [
    "embed_size = 300 # how big is each word vector\n",
    "max_features = 120000 # how many unique words to use (i.e num rows in embedding vector)\n",
    "maxlen = 750 # max number of words in a question to use\n",
    "batch_size = 512 # how many samples to process at once\n",
    "n_epochs = 5 # how many times to iterate over all samples\n",
    "n_splits = 5 # Number of K-fold Splits\n",
    "SEED = 10\n",
    "debug = 0"
   ]
  },
  {
   "cell_type": "code",
   "execution_count": 3,
   "metadata": {},
   "outputs": [],
   "source": [
    "categories = ['talk.religion.misc','comp.graphics', 'sci.space', 'talk.politics.misc', \n",
    "              'sci.med', 'rec.autos', 'comp.os.ms-windows.misc', 'rec.sport.baseball']\n",
    "train = fetch_20newsgroups(subset='train', remove=('headers', 'footers', 'quotes'), categories=categories)\n",
    "test = fetch_20newsgroups(subset='test', remove=('headers', 'footers', 'quotes'), categories=categories)"
   ]
  },
  {
   "cell_type": "code",
   "execution_count": 4,
   "metadata": {},
   "outputs": [],
   "source": [
    "d = {'data': train.data, 'target': train.target}\n",
    "train_df = pd.DataFrame(d)\n",
    "d = {'data': test.data, 'target': test.target}\n",
    "test_df = pd.DataFrame(d)"
   ]
  },
  {
   "cell_type": "markdown",
   "metadata": {},
   "source": [
    "## Preprocessing \n"
   ]
  },
  {
   "cell_type": "code",
   "execution_count": 5,
   "metadata": {
    "_uuid": "abeab4c80d6829cf2eae706bfa7929e2871af81f",
    "scrolled": true
   },
   "outputs": [],
   "source": [
    "import re\n",
    "\n",
    "def clean_text(x):\n",
    "    pattern = r'[^a-zA-z0-9\\s]'\n",
    "    text = re.sub(pattern, '', x)\n",
    "    return x\n",
    "\n",
    "def clean_numbers(x):\n",
    "    if bool(re.search(r'\\d', x)):\n",
    "        x = re.sub('[0-9]{5,}', '#####', x)\n",
    "        x = re.sub('[0-9]{4}', '####', x)\n",
    "        x = re.sub('[0-9]{3}', '###', x)\n",
    "        x = re.sub('[0-9]{2}', '##', x)\n",
    "    return x"
   ]
  },
  {
   "cell_type": "code",
   "execution_count": 6,
   "metadata": {},
   "outputs": [
    {
     "data": {
      "text/plain": [
       "'this is a text with contraction'"
      ]
     },
     "execution_count": 6,
     "metadata": {},
     "output_type": "execute_result"
    }
   ],
   "source": [
    "contraction_dict = {\"ain't\": \"is not\", \"aren't\": \"are not\",\"can't\": \"cannot\", \"'cause\": \"because\", \"could've\": \"could have\", \"couldn't\": \"could not\", \"didn't\": \"did not\",  \"doesn't\": \"does not\", \"don't\": \"do not\", \"hadn't\": \"had not\", \"hasn't\": \"has not\", \"haven't\": \"have not\", \"he'd\": \"he would\",\"he'll\": \"he will\", \"he's\": \"he is\", \"how'd\": \"how did\", \"how'd'y\": \"how do you\", \"how'll\": \"how will\", \"how's\": \"how is\",  \"I'd\": \"I would\", \"I'd've\": \"I would have\", \"I'll\": \"I will\", \"I'll've\": \"I will have\",\"I'm\": \"I am\", \"I've\": \"I have\", \"i'd\": \"i would\", \"i'd've\": \"i would have\", \"i'll\": \"i will\",  \"i'll've\": \"i will have\",\"i'm\": \"i am\", \"i've\": \"i have\", \"isn't\": \"is not\", \"it'd\": \"it would\", \"it'd've\": \"it would have\", \"it'll\": \"it will\", \"it'll've\": \"it will have\",\"it's\": \"it is\", \"let's\": \"let us\", \"ma'am\": \"madam\", \"mayn't\": \"may not\", \"might've\": \"might have\",\"mightn't\": \"might not\",\"mightn't've\": \"might not have\", \"must've\": \"must have\", \"mustn't\": \"must not\", \"mustn't've\": \"must not have\", \"needn't\": \"need not\", \"needn't've\": \"need not have\",\"o'clock\": \"of the clock\", \"oughtn't\": \"ought not\", \"oughtn't've\": \"ought not have\", \"shan't\": \"shall not\", \"sha'n't\": \"shall not\", \"shan't've\": \"shall not have\", \"she'd\": \"she would\", \"she'd've\": \"she would have\", \"she'll\": \"she will\", \"she'll've\": \"she will have\", \"she's\": \"she is\", \"should've\": \"should have\", \"shouldn't\": \"should not\", \"shouldn't've\": \"should not have\", \"so've\": \"so have\",\"so's\": \"so as\", \"this's\": \"this is\",\"that'd\": \"that would\", \"that'd've\": \"that would have\", \"that's\": \"that is\", \"there'd\": \"there would\", \"there'd've\": \"there would have\", \"there's\": \"there is\", \"here's\": \"here is\",\"they'd\": \"they would\", \"they'd've\": \"they would have\", \"they'll\": \"they will\", \"they'll've\": \"they will have\", \"they're\": \"they are\", \"they've\": \"they have\", \"to've\": \"to have\", \"wasn't\": \"was not\", \"we'd\": \"we would\", \"we'd've\": \"we would have\", \"we'll\": \"we will\", \"we'll've\": \"we will have\", \"we're\": \"we are\", \"we've\": \"we have\", \"weren't\": \"were not\", \"what'll\": \"what will\", \"what'll've\": \"what will have\", \"what're\": \"what are\",  \"what's\": \"what is\", \"what've\": \"what have\", \"when's\": \"when is\", \"when've\": \"when have\", \"where'd\": \"where did\", \"where's\": \"where is\", \"where've\": \"where have\", \"who'll\": \"who will\", \"who'll've\": \"who will have\", \"who's\": \"who is\", \"who've\": \"who have\", \"why's\": \"why is\", \"why've\": \"why have\", \"will've\": \"will have\", \"won't\": \"will not\", \"won't've\": \"will not have\", \"would've\": \"would have\", \"wouldn't\": \"would not\", \"wouldn't've\": \"would not have\", \"y'all\": \"you all\", \"y'all'd\": \"you all would\",\"y'all'd've\": \"you all would have\",\"y'all're\": \"you all are\",\"y'all've\": \"you all have\",\"you'd\": \"you would\", \"you'd've\": \"you would have\", \"you'll\": \"you will\", \"you'll've\": \"you will have\", \"you're\": \"you are\", \"you've\": \"you have\"}\n",
    "def _get_contractions(contraction_dict):\n",
    "    contraction_re = re.compile('(%s)' % '|'.join(contraction_dict.keys()))\n",
    "    return contraction_dict, contraction_re\n",
    "contractions, contractions_re = _get_contractions(contraction_dict)\n",
    "def replace_contractions(text):\n",
    "    def replace(match):\n",
    "        return contractions[match.group(0)]\n",
    "    return contractions_re.sub(replace, text)\n",
    "# Usage\n",
    "replace_contractions(\"this's a text with contraction\")"
   ]
  },
  {
   "cell_type": "code",
   "execution_count": 7,
   "metadata": {},
   "outputs": [],
   "source": [
    "# lower the text\n",
    "train_df[\"data\"] = train_df[\"data\"].apply(lambda x: x.lower())\n",
    "test_df[\"data\"] = test_df[\"data\"].apply(lambda x: x.lower())\n",
    "\n",
    "# Clean the text\n",
    "train_df[\"data\"] = train_df[\"data\"].apply(lambda x: clean_text(x))\n",
    "test_df[\"data\"] = test_df[\"data\"].apply(lambda x: clean_text(x))\n",
    "\n",
    "# Clean numbers\n",
    "train_df[\"data\"] = train_df[\"data\"].apply(lambda x: clean_numbers(x))\n",
    "test_df[\"data\"] = test_df[\"data\"].apply(lambda x: clean_numbers(x))\n",
    "\n",
    "\n",
    "# Clean Contractions\n",
    "train_df[\"data\"] = train_df[\"data\"].apply(lambda x: replace_contractions(x))\n",
    "test_df[\"data\"] = test_df[\"data\"].apply(lambda x: replace_contractions(x))\n"
   ]
  },
  {
   "cell_type": "code",
   "execution_count": 8,
   "metadata": {},
   "outputs": [
    {
     "data": {
      "text/plain": [
       "array([7, 2, 3, 4, 0, 5, 6, 1])"
      ]
     },
     "execution_count": 8,
     "metadata": {},
     "output_type": "execute_result"
    }
   ],
   "source": [
    "train_df['target'].unique()"
   ]
  },
  {
   "cell_type": "code",
   "execution_count": 9,
   "metadata": {},
   "outputs": [],
   "source": [
    "train_X = train_df['data']\n",
    "test_X = test_df['data']\n",
    "train_y = train_df['target']\n",
    "test_y = test_df['target']"
   ]
  },
  {
   "cell_type": "code",
   "execution_count": 10,
   "metadata": {
    "_uuid": "63cb21525251b060aeb309e7be4b48772f8720f5",
    "scrolled": true
   },
   "outputs": [
    {
     "name": "stdout",
     "output_type": "stream",
     "text": [
      "Train shape :  (4395,)\n",
      "Test shape :  (2927,)\n"
     ]
    }
   ],
   "source": [
    "print(\"Train shape : \",train_X.shape)\n",
    "print(\"Test shape : \",test_X.shape)"
   ]
  },
  {
   "cell_type": "code",
   "execution_count": 11,
   "metadata": {},
   "outputs": [],
   "source": [
    "## Tokenize the sentences\n",
    "tokenizer = Tokenizer(num_words=max_features)\n",
    "tokenizer.fit_on_texts(list(train_X))\n",
    "train_X = tokenizer.texts_to_sequences(train_X)\n",
    "test_X = tokenizer.texts_to_sequences(test_X)\n",
    "\n",
    "## Pad the sentences \n",
    "train_X = pad_sequences(train_X, maxlen=maxlen)\n",
    "test_X = pad_sequences(test_X, maxlen=maxlen)"
   ]
  },
  {
   "cell_type": "code",
   "execution_count": 12,
   "metadata": {},
   "outputs": [],
   "source": [
    "from sklearn.preprocessing import LabelEncoder\n",
    "le = LabelEncoder()\n",
    "train_y = le.fit_transform(train_y.values)\n",
    "test_y = le.transform(test_y.values)"
   ]
  },
  {
   "cell_type": "code",
   "execution_count": 13,
   "metadata": {},
   "outputs": [
    {
     "data": {
      "text/plain": [
       "array([0, 1, 2, 3, 4, 5, 6, 7])"
      ]
     },
     "execution_count": 13,
     "metadata": {},
     "output_type": "execute_result"
    }
   ],
   "source": [
    "le.classes_"
   ]
  },
  {
   "cell_type": "markdown",
   "metadata": {
    "_uuid": "e5c51a8329d569d13b9f0369ebb98ca8e2e55440"
   },
   "source": [
    "### Load Embeddings\n"
   ]
  },
  {
   "cell_type": "code",
   "execution_count": 14,
   "metadata": {},
   "outputs": [],
   "source": [
    "## FUNCTIONS TAKEN FROM https://www.kaggle.com/gmhost/gru-capsule\n",
    "\n",
    "def load_glove(word_index):\n",
    "    EMBEDDING_FILE = 'data/glove.840B.300d/glove.840B.300d.txt'\n",
    "    def get_coefs(word,*arr): return word, np.asarray(arr, dtype='float32')[:300]\n",
    "    embeddings_index = dict(get_coefs(*o.split(\" \")) for o in open(EMBEDDING_FILE))\n",
    "    \n",
    "    all_embs = np.stack(embeddings_index.values())\n",
    "    emb_mean,emb_std = -0.005838499,0.48782197\n",
    "    embed_size = all_embs.shape[1]\n",
    "\n",
    "    nb_words = min(max_features, len(word_index)+1)\n",
    "    embedding_matrix = np.random.normal(emb_mean, emb_std, (nb_words, embed_size))\n",
    "    for word, i in word_index.items():\n",
    "        if i >= max_features: continue\n",
    "        embedding_vector = embeddings_index.get(word)\n",
    "        if embedding_vector is not None: \n",
    "            embedding_matrix[i] = embedding_vector\n",
    "        else:\n",
    "            embedding_vector = embeddings_index.get(word.capitalize())\n",
    "            if embedding_vector is not None: \n",
    "                embedding_matrix[i] = embedding_vector\n",
    "    return embedding_matrix"
   ]
  },
  {
   "cell_type": "code",
   "execution_count": 15,
   "metadata": {
    "_uuid": "6a5f4502324d369ff6faa3692accee4f8a233005",
    "scrolled": true
   },
   "outputs": [
    {
     "name": "stderr",
     "output_type": "stream",
     "text": [
      "/home/guscl/igti/projeto final/20newsgroup/env/lib/python3.8/site-packages/IPython/core/interactiveshell.py:3343: FutureWarning: arrays to stack must be passed as a \"sequence\" type such as list or tuple. Support for non-sequence iterables such as generators is deprecated as of NumPy 1.16 and will raise an error in the future.\n",
      "  exec(code_obj, self.user_global_ns, self.user_ns)\n"
     ]
    }
   ],
   "source": [
    "# missing entries in the embedding are set using np.random.normal so we have to seed here too\n",
    "\n",
    "if debug:\n",
    "    embedding_matrix = np.random.randn(120000,300)\n",
    "else:\n",
    "    embedding_matrix = load_glove(tokenizer.word_index)"
   ]
  },
  {
   "cell_type": "code",
   "execution_count": 16,
   "metadata": {
    "_uuid": "aa6a41607b804d76a2ddc530c912b5673bcd2423"
   },
   "outputs": [
    {
     "data": {
      "text/plain": [
       "(61144, 300)"
      ]
     },
     "execution_count": 16,
     "metadata": {},
     "output_type": "execute_result"
    }
   ],
   "source": [
    "np.shape(embedding_matrix)"
   ]
  },
  {
   "cell_type": "markdown",
   "metadata": {
    "_uuid": "0a78496e4d88d8fb351cdf26d02f1554821ed445"
   },
   "source": [
    "## Pytorch Model - TextCNN"
   ]
  },
  {
   "cell_type": "code",
   "execution_count": 17,
   "metadata": {},
   "outputs": [],
   "source": [
    "class CNN_Text(nn.Module):\n",
    "    \n",
    "    def __init__(self):\n",
    "        super(CNN_Text, self).__init__()\n",
    "        filter_sizes = [1,2,3,5]\n",
    "        num_filters = 36\n",
    "        n_classes = len(le.classes_)\n",
    "        self.embedding = nn.Embedding(max_features, embed_size)\n",
    "        self.embedding.weight = nn.Parameter(torch.tensor(embedding_matrix, dtype=torch.float32))\n",
    "        self.embedding.weight.requires_grad = False\n",
    "        self.convs1 = nn.ModuleList([nn.Conv2d(1, num_filters, (K, embed_size)) for K in filter_sizes])\n",
    "        self.dropout = nn.Dropout(0.1)\n",
    "        self.fc1 = nn.Linear(len(filter_sizes)*num_filters, n_classes)\n",
    "\n",
    "\n",
    "    def forward(self, x):\n",
    "        x = self.embedding(x)  \n",
    "        x = x.unsqueeze(1)  \n",
    "        x = [F.relu(conv(x)).squeeze(3) for conv in self.convs1] \n",
    "        x = [F.max_pool1d(i, i.size(2)).squeeze(2) for i in x]  \n",
    "        x = torch.cat(x, 1)\n",
    "        x = self.dropout(x)  \n",
    "        logit = self.fc1(x) \n",
    "        return logit"
   ]
  },
  {
   "cell_type": "markdown",
   "metadata": {
    "_uuid": "0da30e2afce23b753796f3045b44ce91a07e4303"
   },
   "source": [
    "## Train TextCNN Model"
   ]
  },
  {
   "cell_type": "code",
   "execution_count": 18,
   "metadata": {
    "_uuid": "6a5afb54f70a29808af19946ba08ef971d194e46"
   },
   "outputs": [
    {
     "name": "stderr",
     "output_type": "stream",
     "text": [
      "<ipython-input-18-23f12a68fdd9>:48: UserWarning: Implicit dimension choice for softmax has been deprecated. Change the call to include dim=X as an argument.\n",
      "  val_preds[i * batch_size:(i+1) * batch_size] =F.softmax(y_pred).cpu().numpy()\n"
     ]
    },
    {
     "name": "stdout",
     "output_type": "stream",
     "text": [
      "Epoch 1/50 \t loss=969.3826 \t val_loss=883.0698  \t val_acc=0.5678  \t time=1.79s\n",
      "Epoch 2/50 \t loss=802.5701 \t val_loss=711.9985  \t val_acc=0.7154  \t time=1.69s\n",
      "Epoch 3/50 \t loss=622.8465 \t val_loss=547.6991  \t val_acc=0.7482  \t time=1.67s\n",
      "Epoch 4/50 \t loss=476.2187 \t val_loss=434.4412  \t val_acc=0.7817  \t time=1.74s\n",
      "Epoch 5/50 \t loss=376.5874 \t val_loss=369.6790  \t val_acc=0.7813  \t time=1.74s\n",
      "Epoch 6/50 \t loss=317.3694 \t val_loss=335.5324  \t val_acc=0.7865  \t time=1.74s\n",
      "Epoch 7/50 \t loss=278.6192 \t val_loss=317.1902  \t val_acc=0.7919  \t time=1.74s\n",
      "Epoch 8/50 \t loss=250.0545 \t val_loss=306.2625  \t val_acc=0.7960  \t time=1.78s\n",
      "Epoch 9/50 \t loss=226.5445 \t val_loss=300.6591  \t val_acc=0.7981  \t time=1.72s\n",
      "Epoch 10/50 \t loss=209.3074 \t val_loss=296.2515  \t val_acc=0.8018  \t time=1.72s\n",
      "Epoch 11/50 \t loss=193.9353 \t val_loss=293.7642  \t val_acc=0.8032  \t time=1.74s\n",
      "Epoch 12/50 \t loss=181.0995 \t val_loss=290.6062  \t val_acc=0.8080  \t time=1.74s\n",
      "Epoch 13/50 \t loss=169.8655 \t val_loss=288.7594  \t val_acc=0.8049  \t time=1.76s\n",
      "Epoch 14/50 \t loss=156.5127 \t val_loss=287.5008  \t val_acc=0.8077  \t time=1.74s\n",
      "Epoch 15/50 \t loss=147.1513 \t val_loss=286.8889  \t val_acc=0.8073  \t time=1.74s\n",
      "Epoch 16/50 \t loss=136.9709 \t val_loss=286.2307  \t val_acc=0.8073  \t time=1.74s\n",
      "Epoch 17/50 \t loss=129.7665 \t val_loss=285.6718  \t val_acc=0.8100  \t time=1.74s\n",
      "Epoch 18/50 \t loss=121.3653 \t val_loss=286.1390  \t val_acc=0.8104  \t time=1.74s\n",
      "Epoch 19/50 \t loss=114.0767 \t val_loss=286.3571  \t val_acc=0.8080  \t time=1.74s\n",
      "Epoch 20/50 \t loss=108.4372 \t val_loss=285.9744  \t val_acc=0.8080  \t time=1.74s\n",
      "Epoch 21/50 \t loss=101.9984 \t val_loss=285.7232  \t val_acc=0.8107  \t time=1.74s\n",
      "Epoch 22/50 \t loss=97.4452 \t val_loss=288.4808  \t val_acc=0.8097  \t time=1.74s\n",
      "Epoch 23/50 \t loss=91.6195 \t val_loss=287.0574  \t val_acc=0.8124  \t time=1.74s\n",
      "Epoch 24/50 \t loss=87.9906 \t val_loss=289.6173  \t val_acc=0.8107  \t time=1.74s\n",
      "Epoch 25/50 \t loss=83.3813 \t val_loss=289.4337  \t val_acc=0.8121  \t time=1.74s\n",
      "Epoch 26/50 \t loss=80.3590 \t val_loss=291.5399  \t val_acc=0.8100  \t time=1.74s\n",
      "Epoch 27/50 \t loss=77.8931 \t val_loss=290.9655  \t val_acc=0.8124  \t time=1.74s\n",
      "Epoch 28/50 \t loss=73.9763 \t val_loss=293.2926  \t val_acc=0.8097  \t time=1.69s\n",
      "Epoch 29/50 \t loss=71.2967 \t val_loss=294.1712  \t val_acc=0.8104  \t time=1.69s\n",
      "Epoch 30/50 \t loss=68.9081 \t val_loss=294.4702  \t val_acc=0.8111  \t time=1.74s\n",
      "Epoch 31/50 \t loss=67.4472 \t val_loss=296.3880  \t val_acc=0.8094  \t time=1.74s\n",
      "Epoch 32/50 \t loss=65.0148 \t val_loss=297.0851  \t val_acc=0.8128  \t time=1.74s\n",
      "Epoch 33/50 \t loss=62.2587 \t val_loss=298.8367  \t val_acc=0.8094  \t time=1.74s\n",
      "Epoch 34/50 \t loss=61.6280 \t val_loss=298.9956  \t val_acc=0.8121  \t time=1.75s\n",
      "Epoch 35/50 \t loss=59.7774 \t val_loss=300.2760  \t val_acc=0.8135  \t time=1.80s\n",
      "Epoch 36/50 \t loss=59.2239 \t val_loss=300.9134  \t val_acc=0.8135  \t time=1.75s\n",
      "Epoch 37/50 \t loss=58.8203 \t val_loss=302.1116  \t val_acc=0.8104  \t time=1.76s\n",
      "Epoch 38/50 \t loss=56.3398 \t val_loss=304.9647  \t val_acc=0.8111  \t time=1.74s\n",
      "Epoch 39/50 \t loss=55.7933 \t val_loss=303.8984  \t val_acc=0.8138  \t time=1.75s\n",
      "Epoch 40/50 \t loss=54.6741 \t val_loss=305.9327  \t val_acc=0.8111  \t time=1.74s\n",
      "Epoch 41/50 \t loss=53.8601 \t val_loss=307.6300  \t val_acc=0.8121  \t time=1.74s\n",
      "Epoch 42/50 \t loss=53.9290 \t val_loss=308.1250  \t val_acc=0.8121  \t time=1.75s\n",
      "Epoch 43/50 \t loss=52.1960 \t val_loss=309.1555  \t val_acc=0.8128  \t time=1.74s\n",
      "Epoch 44/50 \t loss=51.5987 \t val_loss=311.8463  \t val_acc=0.8104  \t time=1.74s\n",
      "Epoch 45/50 \t loss=50.6734 \t val_loss=311.1092  \t val_acc=0.8114  \t time=1.75s\n",
      "Epoch 46/50 \t loss=49.7094 \t val_loss=314.9002  \t val_acc=0.8111  \t time=1.75s\n",
      "Epoch 47/50 \t loss=50.0809 \t val_loss=314.0087  \t val_acc=0.8114  \t time=1.75s\n",
      "Epoch 48/50 \t loss=49.1373 \t val_loss=315.8080  \t val_acc=0.8111  \t time=1.74s\n",
      "Epoch 49/50 \t loss=48.6663 \t val_loss=316.9429  \t val_acc=0.8114  \t time=1.74s\n",
      "Epoch 50/50 \t loss=48.1045 \t val_loss=318.0941  \t val_acc=0.8121  \t time=1.75s\n"
     ]
    }
   ],
   "source": [
    "n_epochs = 50\n",
    "model = CNN_Text()\n",
    "loss_fn = nn.CrossEntropyLoss(reduction='sum')\n",
    "optimizer = torch.optim.Adam(filter(lambda p: p.requires_grad, model.parameters()), lr=0.001)\n",
    "model.cuda()\n",
    "\n",
    "# Load train and test in CUDA Memory\n",
    "x_train = torch.tensor(train_X, dtype=torch.long).cuda()\n",
    "y_train = torch.tensor(train_y, dtype=torch.long).cuda()\n",
    "x_cv = torch.tensor(test_X, dtype=torch.long).cuda()\n",
    "y_cv = torch.tensor(test_y, dtype=torch.long).cuda()\n",
    "\n",
    "# Create Torch datasets\n",
    "train = torch.utils.data.TensorDataset(x_train, y_train)\n",
    "valid = torch.utils.data.TensorDataset(x_cv, y_cv)\n",
    "\n",
    "# Create Data Loaders\n",
    "train_loader = torch.utils.data.DataLoader(train, batch_size=batch_size, shuffle=True)\n",
    "valid_loader = torch.utils.data.DataLoader(valid, batch_size=batch_size, shuffle=False)\n",
    "\n",
    "train_loss = []\n",
    "valid_loss = []\n",
    "\n",
    "for epoch in range(n_epochs):\n",
    "    start_time = time.time()\n",
    "    # Set model to train configuration\n",
    "    model.train()\n",
    "    avg_loss = 0.  \n",
    "    for i, (x_batch, y_batch) in enumerate(train_loader):\n",
    "        # Predict/Forward Pass\n",
    "        y_pred = model(x_batch)\n",
    "        # Compute loss\n",
    "        loss = loss_fn(y_pred, y_batch)\n",
    "        optimizer.zero_grad()\n",
    "        loss.backward()\n",
    "        optimizer.step()\n",
    "        avg_loss += loss.item() / len(train_loader)\n",
    "    \n",
    "    # Set model to validation configuration -Doesn't get trained here\n",
    "    model.eval()        \n",
    "    avg_val_loss = 0.\n",
    "    val_preds = np.zeros((len(x_cv),len(le.classes_)))\n",
    "    \n",
    "    for i, (x_batch, y_batch) in enumerate(valid_loader):\n",
    "        y_pred = model(x_batch).detach()\n",
    "        avg_val_loss += loss_fn(y_pred, y_batch).item() / len(valid_loader)\n",
    "        # keep/store predictions\n",
    "        val_preds[i * batch_size:(i+1) * batch_size] =F.softmax(y_pred).cpu().numpy()\n",
    "    \n",
    "    # Check Accuracy\n",
    "    val_accuracy = sum(val_preds.argmax(axis=1)==test_y)/len(test_y)\n",
    "    train_loss.append(avg_loss)\n",
    "    valid_loss.append(avg_val_loss)\n",
    "    elapsed_time = time.time() - start_time \n",
    "    print('Epoch {}/{} \\t loss={:.4f} \\t val_loss={:.4f}  \\t val_acc={:.4f}  \\t time={:.2f}s'.format(\n",
    "                epoch + 1, n_epochs, avg_loss, avg_val_loss, val_accuracy, elapsed_time))"
   ]
  },
  {
   "cell_type": "code",
   "execution_count": 19,
   "metadata": {},
   "outputs": [
    {
     "name": "stderr",
     "output_type": "stream",
     "text": [
      "/home/guscl/igti/projeto final/20newsgroup/env/lib/python3.8/site-packages/torch/serialization.py:401: UserWarning: Couldn't retrieve source code for container of type CNN_Text. It won't be checked for correctness upon loading.\n",
      "  warnings.warn(\"Couldn't retrieve source code for container of \"\n"
     ]
    }
   ],
   "source": [
    "torch.save(model,'textcnn_20news')"
   ]
  },
  {
   "cell_type": "code",
   "execution_count": 21,
   "metadata": {
    "_uuid": "9d1b3fc0c8bc59f91a203adcf3dbd9d89759c8df"
   },
   "outputs": [],
   "source": [
    "def plot_graph(epochs):\n",
    "    fig = plt.figure(figsize=(12,12))\n",
    "    plt.title(\"Train/Validation Loss\")\n",
    "    plt.plot(list(np.arange(epochs) + 1) , train_loss, label='train')\n",
    "    plt.plot(list(np.arange(epochs) + 1), valid_loss, label='validation')\n",
    "    plt.xlabel('num_epochs', fontsize=12)\n",
    "    plt.ylabel('loss', fontsize=12)\n",
    "    plt.legend(loc='best')"
   ]
  },
  {
   "cell_type": "code",
   "execution_count": 22,
   "metadata": {},
   "outputs": [
    {
     "data": {
      "image/png": "[encoded data removed]",
      "text/plain": [
       "<Figure size 864x864 with 1 Axes>"
      ]
     },
     "metadata": {
      "needs_background": "light"
     },
     "output_type": "display_data"
    }
   ],
   "source": [
    "plot_graph(n_epochs)"
   ]
  },
  {
   "cell_type": "code",
   "execution_count": 23,
   "metadata": {},
   "outputs": [
    {
     "data": {
      "text/plain": [
       "<AxesSubplot:title={'center':'Confusion Matrix'}, xlabel='Predicted label', ylabel='True label'>"
      ]
     },
     "execution_count": 23,
     "metadata": {},
     "output_type": "execute_result"
    },
    {
     "data": {
      "image/png": "[encoded data removed]",
      "text/plain": [
       "<Figure size 864x864 with 2 Axes>"
      ]
     },
     "metadata": {
      "needs_background": "light"
     },
     "output_type": "display_data"
    }
   ],
   "source": [
    "import scikitplot as skplt\n",
    "y_true = [le.classes_[x] for x in test_y]\n",
    "y_pred = [le.classes_[x] for x in val_preds.argmax(axis=1)]\n",
    "skplt.metrics.plot_confusion_matrix(\n",
    "    y_true, \n",
    "    y_pred,\n",
    "    figsize=(12,12),x_tick_rotation=90)"
   ]
  },
  {
   "cell_type": "code",
   "execution_count": 24,
   "metadata": {},
   "outputs": [],
   "source": [
    "del model, x_train, y_train, x_cv, y_cv\n",
    "torch.cuda.empty_cache()\n"
   ]
  },
  {
   "cell_type": "markdown",
   "metadata": {},
   "source": [
    "## Pytorch Model - BiLSTM"
   ]
  },
  {
   "cell_type": "code",
   "execution_count": 25,
   "metadata": {},
   "outputs": [],
   "source": [
    "\n",
    "class BiLSTM(nn.Module):\n",
    "    \n",
    "    def __init__(self):\n",
    "        super(BiLSTM, self).__init__()\n",
    "        self.hidden_size = 64\n",
    "        drp = 0.1\n",
    "        n_classes = len(le.classes_)\n",
    "        self.embedding = nn.Embedding(max_features, embed_size)\n",
    "        self.embedding.weight = nn.Parameter(torch.tensor(embedding_matrix, dtype=torch.float32))\n",
    "        self.embedding.weight.requires_grad = False\n",
    "        self.lstm = nn.LSTM(embed_size, self.hidden_size, bidirectional=True, batch_first=True)\n",
    "        self.linear = nn.Linear(self.hidden_size*4 , 64)\n",
    "        self.relu = nn.ReLU()\n",
    "        self.dropout = nn.Dropout(drp)\n",
    "        self.out = nn.Linear(64, n_classes)\n",
    "\n",
    "\n",
    "    def forward(self, x):\n",
    "        #rint(x.size())\n",
    "        h_embedding = self.embedding(x)\n",
    "        #_embedding = torch.squeeze(torch.unsqueeze(h_embedding, 0))\n",
    "        h_lstm, _ = self.lstm(h_embedding)\n",
    "        avg_pool = torch.mean(h_lstm, 1)\n",
    "        max_pool, _ = torch.max(h_lstm, 1)\n",
    "        conc = torch.cat(( avg_pool, max_pool), 1)\n",
    "        conc = self.relu(self.linear(conc))\n",
    "        conc = self.dropout(conc)\n",
    "        out = self.out(conc)\n",
    "        return out"
   ]
  },
  {
   "cell_type": "code",
   "execution_count": 26,
   "metadata": {},
   "outputs": [
    {
     "name": "stderr",
     "output_type": "stream",
     "text": [
      "<ipython-input-26-b1a235569265>:48: UserWarning: Implicit dimension choice for softmax has been deprecated. Change the call to include dim=X as an argument.\n",
      "  val_preds[i * batch_size:(i+1) * batch_size] =F.softmax(y_pred).cpu().numpy()\n"
     ]
    },
    {
     "name": "stdout",
     "output_type": "stream",
     "text": [
      "Epoch 1/50 \t loss=1007.7855 \t val_loss=998.6211  \t val_acc=0.2272  \t time=1.51s\n",
      "Epoch 2/50 \t loss=990.7055 \t val_loss=977.1035  \t val_acc=0.3960  \t time=1.42s\n",
      "Epoch 3/50 \t loss=957.4409 \t val_loss=929.6045  \t val_acc=0.4571  \t time=1.46s\n",
      "Epoch 4/50 \t loss=885.7256 \t val_loss=828.9718  \t val_acc=0.5162  \t time=1.48s\n",
      "Epoch 5/50 \t loss=763.9082 \t val_loss=707.1232  \t val_acc=0.5521  \t time=1.48s\n",
      "Epoch 6/50 \t loss=642.0430 \t val_loss=605.1183  \t val_acc=0.5808  \t time=1.55s\n",
      "Epoch 7/50 \t loss=540.3160 \t val_loss=515.7182  \t val_acc=0.6078  \t time=1.46s\n",
      "Epoch 8/50 \t loss=460.0418 \t val_loss=472.3562  \t val_acc=0.6546  \t time=1.49s\n",
      "Epoch 9/50 \t loss=412.8011 \t val_loss=438.4227  \t val_acc=0.7120  \t time=1.48s\n",
      "Epoch 10/50 \t loss=375.6895 \t val_loss=416.6760  \t val_acc=0.6853  \t time=1.49s\n",
      "Epoch 11/50 \t loss=351.1352 \t val_loss=392.0764  \t val_acc=0.7520  \t time=1.46s\n",
      "Epoch 12/50 \t loss=329.1449 \t val_loss=383.6453  \t val_acc=0.7485  \t time=1.48s\n",
      "Epoch 13/50 \t loss=316.5463 \t val_loss=376.0413  \t val_acc=0.7530  \t time=1.48s\n",
      "Epoch 14/50 \t loss=294.3877 \t val_loss=357.0813  \t val_acc=0.7598  \t time=1.48s\n",
      "Epoch 15/50 \t loss=268.3729 \t val_loss=349.5783  \t val_acc=0.7694  \t time=1.47s\n",
      "Epoch 16/50 \t loss=255.9960 \t val_loss=339.7968  \t val_acc=0.7766  \t time=1.48s\n",
      "Epoch 17/50 \t loss=239.4575 \t val_loss=339.5676  \t val_acc=0.7772  \t time=1.48s\n",
      "Epoch 18/50 \t loss=218.0822 \t val_loss=332.0997  \t val_acc=0.7745  \t time=1.47s\n",
      "Epoch 19/50 \t loss=201.8508 \t val_loss=331.9829  \t val_acc=0.7813  \t time=1.46s\n",
      "Epoch 20/50 \t loss=194.2530 \t val_loss=327.8489  \t val_acc=0.7831  \t time=1.48s\n",
      "Epoch 21/50 \t loss=179.0814 \t val_loss=326.9917  \t val_acc=0.7755  \t time=1.48s\n",
      "Epoch 22/50 \t loss=170.3683 \t val_loss=353.9429  \t val_acc=0.7585  \t time=1.49s\n",
      "Epoch 23/50 \t loss=169.7770 \t val_loss=320.8225  \t val_acc=0.7872  \t time=1.47s\n",
      "Epoch 24/50 \t loss=159.7836 \t val_loss=335.0950  \t val_acc=0.7793  \t time=1.47s\n",
      "Epoch 25/50 \t loss=158.2797 \t val_loss=337.3074  \t val_acc=0.7817  \t time=1.49s\n",
      "Epoch 26/50 \t loss=164.9454 \t val_loss=337.6370  \t val_acc=0.7749  \t time=1.48s\n",
      "Epoch 27/50 \t loss=147.2719 \t val_loss=337.0509  \t val_acc=0.7769  \t time=1.47s\n",
      "Epoch 28/50 \t loss=135.1722 \t val_loss=337.1080  \t val_acc=0.7827  \t time=1.48s\n",
      "Epoch 29/50 \t loss=126.4719 \t val_loss=342.9385  \t val_acc=0.7817  \t time=1.49s\n",
      "Epoch 30/50 \t loss=119.0705 \t val_loss=343.4198  \t val_acc=0.7841  \t time=1.49s\n",
      "Epoch 31/50 \t loss=113.5548 \t val_loss=351.4462  \t val_acc=0.7854  \t time=1.47s\n",
      "Epoch 32/50 \t loss=107.5305 \t val_loss=349.1709  \t val_acc=0.7824  \t time=1.49s\n",
      "Epoch 33/50 \t loss=100.8397 \t val_loss=362.0447  \t val_acc=0.7824  \t time=1.48s\n",
      "Epoch 34/50 \t loss=100.8224 \t val_loss=378.9678  \t val_acc=0.7759  \t time=1.54s\n",
      "Epoch 35/50 \t loss=94.9168 \t val_loss=367.3865  \t val_acc=0.7790  \t time=1.47s\n",
      "Epoch 36/50 \t loss=89.9929 \t val_loss=373.8668  \t val_acc=0.7786  \t time=1.48s\n",
      "Epoch 37/50 \t loss=86.6646 \t val_loss=374.2340  \t val_acc=0.7824  \t time=1.49s\n",
      "Epoch 38/50 \t loss=82.5013 \t val_loss=387.9451  \t val_acc=0.7735  \t time=1.49s\n",
      "Epoch 39/50 \t loss=80.0147 \t val_loss=372.9996  \t val_acc=0.7779  \t time=1.42s\n",
      "Epoch 40/50 \t loss=79.7918 \t val_loss=385.2323  \t val_acc=0.7841  \t time=1.43s\n",
      "Epoch 41/50 \t loss=80.5678 \t val_loss=406.9871  \t val_acc=0.7646  \t time=1.43s\n",
      "Epoch 42/50 \t loss=85.3762 \t val_loss=388.6538  \t val_acc=0.7731  \t time=1.49s\n",
      "Epoch 43/50 \t loss=72.5913 \t val_loss=390.1784  \t val_acc=0.7813  \t time=1.47s\n",
      "Epoch 44/50 \t loss=71.0235 \t val_loss=396.7545  \t val_acc=0.7755  \t time=1.49s\n",
      "Epoch 45/50 \t loss=69.1435 \t val_loss=420.4430  \t val_acc=0.7697  \t time=1.48s\n",
      "Epoch 46/50 \t loss=83.8674 \t val_loss=409.0679  \t val_acc=0.7766  \t time=1.49s\n",
      "Epoch 47/50 \t loss=76.3128 \t val_loss=407.1629  \t val_acc=0.7776  \t time=1.48s\n",
      "Epoch 48/50 \t loss=69.6574 \t val_loss=396.7018  \t val_acc=0.7790  \t time=1.48s\n",
      "Epoch 49/50 \t loss=65.4248 \t val_loss=405.0781  \t val_acc=0.7793  \t time=1.49s\n",
      "Epoch 50/50 \t loss=59.3314 \t val_loss=417.4791  \t val_acc=0.7796  \t time=1.50s\n"
     ]
    }
   ],
   "source": [
    "n_epochs = 50\n",
    "model = BiLSTM()\n",
    "loss_fn = nn.CrossEntropyLoss(reduction='sum')\n",
    "optimizer = torch.optim.Adam(filter(lambda p: p.requires_grad, model.parameters()), lr=0.001)\n",
    "model.cuda()\n",
    "\n",
    "# Load train and test in CUDA Memory\n",
    "x_train = torch.tensor(train_X, dtype=torch.long).cuda()\n",
    "y_train = torch.tensor(train_y, dtype=torch.long).cuda()\n",
    "x_cv = torch.tensor(test_X, dtype=torch.long).cuda()\n",
    "y_cv = torch.tensor(test_y, dtype=torch.long).cuda()\n",
    "\n",
    "# Create Torch datasets\n",
    "train = torch.utils.data.TensorDataset(x_train, y_train)\n",
    "valid = torch.utils.data.TensorDataset(x_cv, y_cv)\n",
    "\n",
    "# Create Data Loaders\n",
    "train_loader = torch.utils.data.DataLoader(train, batch_size=batch_size, shuffle=True)\n",
    "valid_loader = torch.utils.data.DataLoader(valid, batch_size=batch_size, shuffle=False)\n",
    "\n",
    "train_loss = []\n",
    "valid_loss = []\n",
    "\n",
    "for epoch in range(n_epochs):\n",
    "    start_time = time.time()\n",
    "    # Set model to train configuration\n",
    "    model.train()\n",
    "    avg_loss = 0.  \n",
    "    for i, (x_batch, y_batch) in enumerate(train_loader):\n",
    "        # Predict/Forward Pass\n",
    "        y_pred = model(x_batch)\n",
    "        # Compute loss\n",
    "        loss = loss_fn(y_pred, y_batch)\n",
    "        optimizer.zero_grad()\n",
    "        loss.backward()\n",
    "        optimizer.step()\n",
    "        avg_loss += loss.item() / len(train_loader)\n",
    "    \n",
    "    # Set model to validation configuration -Doesn't get trained here\n",
    "    model.eval()        \n",
    "    avg_val_loss = 0.\n",
    "    val_preds = np.zeros((len(x_cv),len(le.classes_)))\n",
    "    \n",
    "    for i, (x_batch, y_batch) in enumerate(valid_loader):\n",
    "        y_pred = model(x_batch).detach()\n",
    "        avg_val_loss += loss_fn(y_pred, y_batch).item() / len(valid_loader)\n",
    "        # keep/store predictions\n",
    "        val_preds[i * batch_size:(i+1) * batch_size] =F.softmax(y_pred).cpu().numpy()\n",
    "    \n",
    "    # Check Accuracy\n",
    "    val_accuracy = sum(val_preds.argmax(axis=1)==test_y)/len(test_y)\n",
    "    train_loss.append(avg_loss)\n",
    "    valid_loss.append(avg_val_loss)\n",
    "    elapsed_time = time.time() - start_time \n",
    "    print('Epoch {}/{} \\t loss={:.4f} \\t val_loss={:.4f}  \\t val_acc={:.4f}  \\t time={:.2f}s'.format(\n",
    "                epoch + 1, n_epochs, avg_loss, avg_val_loss, val_accuracy, elapsed_time))"
   ]
  },
  {
   "cell_type": "code",
   "execution_count": 27,
   "metadata": {},
   "outputs": [
    {
     "data": {
      "image/png": "[encoded data removed]",
      "text/plain": [
       "<Figure size 864x864 with 1 Axes>"
      ]
     },
     "metadata": {
      "needs_background": "light"
     },
     "output_type": "display_data"
    }
   ],
   "source": [
    "plot_graph(n_epochs)"
   ]
  },
  {
   "cell_type": "code",
   "execution_count": 28,
   "metadata": {},
   "outputs": [
    {
     "name": "stderr",
     "output_type": "stream",
     "text": [
      "/home/guscl/igti/projeto final/20newsgroup/env/lib/python3.8/site-packages/torch/serialization.py:401: UserWarning: Couldn't retrieve source code for container of type BiLSTM. It won't be checked for correctness upon loading.\n",
      "  warnings.warn(\"Couldn't retrieve source code for container of \"\n"
     ]
    }
   ],
   "source": [
    "torch.save(model,'bilstm_model_20news')"
   ]
  },
  {
   "cell_type": "code",
   "execution_count": 29,
   "metadata": {},
   "outputs": [
    {
     "data": {
      "text/plain": [
       "<AxesSubplot:title={'center':'Confusion Matrix'}, xlabel='Predicted label', ylabel='True label'>"
      ]
     },
     "execution_count": 29,
     "metadata": {},
     "output_type": "execute_result"
    },
    {
     "data": {
      "image/png": "[encoded data removed]",
      "text/plain": [
       "<Figure size 864x864 with 2 Axes>"
      ]
     },
     "metadata": {
      "needs_background": "light"
     },
     "output_type": "display_data"
    }
   ],
   "source": [
    "import scikitplot as skplt\n",
    "y_true = [le.classes_[x] for x in test_y]\n",
    "y_pred = [le.classes_[x] for x in val_preds.argmax(axis=1)]\n",
    "skplt.metrics.plot_confusion_matrix(\n",
    "    y_true, \n",
    "    y_pred,\n",
    "    figsize=(12,12),x_tick_rotation=90)"
   ]
  },
  {
   "cell_type": "markdown",
   "metadata": {},
   "source": [
    "## Deploy : Predict A Single Example"
   ]
  },
  {
   "cell_type": "code",
   "execution_count": null,
   "metadata": {},
   "outputs": [],
   "source": [
    "def predict_single(x):    \n",
    "    # lower the text\n",
    "    x = x.lower()\n",
    "    # Clean the text\n",
    "    x =  clean_text(x)\n",
    "    # Clean numbers\n",
    "    x =  clean_numbers(x)\n",
    "    # Clean Contractions\n",
    "    x = replace_contractions(x)\n",
    "    # tokenize\n",
    "    x = tokenizer.texts_to_sequences([x])\n",
    "    # pad\n",
    "    x = pad_sequences(x, maxlen=maxlen)\n",
    "    # create dataset\n",
    "    x = torch.tensor(x, dtype=torch.long).cuda()\n",
    "\n",
    "    pred = model(x).detach()\n",
    "    pred = F.softmax(pred).cpu().numpy()\n",
    "\n",
    "    pred = pred.argmax(axis=1)\n",
    "\n",
    "    pred = le.classes_[pred]\n",
    "    return pred[0]"
   ]
  },
  {
   "cell_type": "code",
   "execution_count": null,
   "metadata": {},
   "outputs": [],
   "source": [
    "x = data['review'].values[20]\n",
    "print(x)"
   ]
  },
  {
   "cell_type": "code",
   "execution_count": null,
   "metadata": {},
   "outputs": [],
   "source": [
    "predict_single(x)"
   ]
  },
  {
   "cell_type": "code",
   "execution_count": null,
   "metadata": {},
   "outputs": [],
   "source": []
  },
  {
   "cell_type": "code",
   "execution_count": null,
   "metadata": {},
   "outputs": [],
   "source": []
  },
  {
   "cell_type": "code",
   "execution_count": null,
   "metadata": {},
   "outputs": [],
   "source": []
  },
  {
   "cell_type": "code",
   "execution_count": null,
   "metadata": {},
   "outputs": [],
   "source": []
  },
  {
   "cell_type": "code",
   "execution_count": null,
   "metadata": {},
   "outputs": [],
   "source": []
  }
 ],
 "metadata": {
  "kernelspec": {
   "display_name": "Python 3",
   "language": "python",
   "name": "python3"
  },
  "language_info": {
   "codemirror_mode": {
    "name": "ipython",
    "version": 3
   },
   "file_extension": ".py",
   "mimetype": "text/x-python",
   "name": "python",
   "nbconvert_exporter": "python",
   "pygments_lexer": "ipython3",
   "version": "3.8.2"
  }
 },
 "nbformat": 4,
 "nbformat_minor": 4
}
